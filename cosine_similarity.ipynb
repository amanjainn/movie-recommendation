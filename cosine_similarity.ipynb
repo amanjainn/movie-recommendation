{
  "nbformat": 4,
  "nbformat_minor": 0,
  "metadata": {
    "colab": {
      "name": "cosine_similarity.ipynb",
      "provenance": []
    },
    "kernelspec": {
      "name": "python3",
      "display_name": "Python 3"
    }
  },
  "cells": [
    {
      "cell_type": "code",
      "metadata": {
        "id": "aaQSWXMdf-AB"
      },
      "source": [
        "from sklearn.feature_extraction.text import CountVectorizer\r\n",
        "from sklearn.metrics.pairwise import cosine_similarity"
      ],
      "execution_count": 1,
      "outputs": []
    },
    {
      "cell_type": "code",
      "metadata": {
        "id": "rzNpTZObf_0h",
        "colab": {
          "base_uri": "https://localhost:8080/"
        },
        "outputId": "bc716474-b997-4bbf-b428-78f5ed43e1ed"
      },
      "source": [
        "text = [\"bms college bms\",\"bms college college\"]\r\n",
        "cv = CountVectorizer()\r\n",
        "count_matrix = cv.fit_transform(text)\r\n",
        "#print (count_matrix)\r\n",
        "print (count_matrix.toarray())"
      ],
      "execution_count": 5,
      "outputs": [
        {
          "output_type": "stream",
          "text": [
            "[[2 1]\n",
            " [1 2]]\n"
          ],
          "name": "stdout"
        }
      ]
    },
    {
      "cell_type": "code",
      "metadata": {
        "id": "XuH_hyEVx_Uk",
        "colab": {
          "base_uri": "https://localhost:8080/"
        },
        "outputId": "57ec449c-6565-4059-dd84-69a290d46de6"
      },
      "source": [
        "\r\n",
        "similarity_scores = cosine_similarity(count_matrix)\r\n",
        "\r\n",
        "print (similarity_scores)"
      ],
      "execution_count": 7,
      "outputs": [
        {
          "output_type": "stream",
          "text": [
            "[[1.  0.8]\n",
            " [0.8 1. ]]\n"
          ],
          "name": "stdout"
        }
      ]
    }
  ]
}