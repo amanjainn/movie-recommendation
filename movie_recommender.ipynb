{
  "nbformat": 4,
  "nbformat_minor": 0,
  "metadata": {
    "colab": {
      "name": "movie_recommender.ipynb",
      "provenance": [],
<<<<<<< HEAD
      "collapsed_sections": []
=======
      "collapsed_sections": [],
      "authorship_tag": "ABX9TyO5W5hpAaW9ePv8pMH0e2LH",
      "include_colab_link": true
>>>>>>> 7d8e03255dcdfea88dc0c8c502578100c518dfc1
    },
    "kernelspec": {
      "name": "python3",
      "display_name": "Python 3"
    }
  },
  "cells": [
    {
<<<<<<< HEAD
=======
      "cell_type": "markdown",
      "metadata": {
        "id": "view-in-github",
        "colab_type": "text"
      },
      "source": [
        "<a href=\"https://colab.research.google.com/github/amanjainn/movie-recommendation/blob/master/movie_recommender.ipynb\" target=\"_parent\"><img src=\"https://colab.research.google.com/assets/colab-badge.svg\" alt=\"Open In Colab\"/></a>"
      ]
    },
    {
>>>>>>> 7d8e03255dcdfea88dc0c8c502578100c518dfc1
      "cell_type": "code",
      "metadata": {
        "id": "8cUxKoe8WYNf"
      },
      "source": [
        "import pandas as pd\r\n",
        "import numpy as np\r\n",
        "from sklearn.feature_extraction.text import CountVectorizer\r\n",
        "from sklearn.metrics.pairwise import cosine_similarity"
      ],
<<<<<<< HEAD
      "execution_count": 1,
=======
      "execution_count": 36,
>>>>>>> 7d8e03255dcdfea88dc0c8c502578100c518dfc1
      "outputs": []
    },
    {
      "cell_type": "code",
      "metadata": {
        "id": "ImEmahYNWf7z"
      },
      "source": [
        "def get_title_from_index(index):\r\n",
        "\treturn df[df.index == index][\"title\"].values[0]"
      ],
<<<<<<< HEAD
      "execution_count": 2,
=======
      "execution_count": 37,
>>>>>>> 7d8e03255dcdfea88dc0c8c502578100c518dfc1
      "outputs": []
    },
    {
      "cell_type": "code",
      "metadata": {
        "id": "kmfRlG3OWnJE"
      },
      "source": [
        "def get_index_from_title(title):\r\n",
        "\treturn df[df.title == title][\"index\"].values[0]"
      ],
<<<<<<< HEAD
      "execution_count": 3,
=======
      "execution_count": 38,
>>>>>>> 7d8e03255dcdfea88dc0c8c502578100c518dfc1
      "outputs": []
    },
    {
      "cell_type": "code",
      "metadata": {
        "id": "hJlv9LR-ceYW"
      },
      "source": [
        "url='https://raw.githubusercontent.com/amanjainn/movie-recommendation/master/movie_dataset.csv'"
      ],
<<<<<<< HEAD
      "execution_count": 4,
=======
      "execution_count": 41,
>>>>>>> 7d8e03255dcdfea88dc0c8c502578100c518dfc1
      "outputs": []
    },
    {
      "cell_type": "code",
      "metadata": {
        "id": "HL_WZI-seFL_"
      },
      "source": [
        "df = pd.read_csv(url)"
      ],
<<<<<<< HEAD
      "execution_count": 20,
=======
      "execution_count": 42,
>>>>>>> 7d8e03255dcdfea88dc0c8c502578100c518dfc1
      "outputs": []
    },
    {
      "cell_type": "code",
      "metadata": {
<<<<<<< HEAD
        "id": "Y0XUONLwelHo",
        "colab": {
          "base_uri": "https://localhost:8080/"
        },
        "outputId": "59821824-4048-4cca-e520-35f54269aedf"
=======
        "id": "Y0XUONLwelHo"
>>>>>>> 7d8e03255dcdfea88dc0c8c502578100c518dfc1
      },
      "source": [
        "print (df.head())"
      ],
<<<<<<< HEAD
      "execution_count": 21,
      "outputs": [
        {
          "output_type": "stream",
          "text": [
            "   index  ...           director\n",
            "0      0  ...      James Cameron\n",
            "1      1  ...     Gore Verbinski\n",
            "2      2  ...         Sam Mendes\n",
            "3      3  ...  Christopher Nolan\n",
            "4      4  ...     Andrew Stanton\n",
            "\n",
            "[5 rows x 24 columns]\n"
          ],
          "name": "stdout"
        }
      ]
=======
      "execution_count": null,
      "outputs": []
>>>>>>> 7d8e03255dcdfea88dc0c8c502578100c518dfc1
    },
    {
      "cell_type": "code",
      "metadata": {
<<<<<<< HEAD
        "id": "b9xMjqMde3E9",
        "colab": {
          "base_uri": "https://localhost:8080/"
        },
        "outputId": "9f34be61-6a38-4c2e-928f-f6a6c2d61915"
=======
        "id": "b9xMjqMde3E9"
>>>>>>> 7d8e03255dcdfea88dc0c8c502578100c518dfc1
      },
      "source": [
        "print (df.columns)"
      ],
<<<<<<< HEAD
      "execution_count": 22,
      "outputs": [
        {
          "output_type": "stream",
          "text": [
            "Index(['index', 'budget', 'genres', 'homepage', 'id', 'keywords',\n",
            "       'original_language', 'original_title', 'overview', 'popularity',\n",
            "       'production_companies', 'production_countries', 'release_date',\n",
            "       'revenue', 'runtime', 'spoken_languages', 'status', 'tagline', 'title',\n",
            "       'vote_average', 'vote_count', 'cast', 'crew', 'director'],\n",
            "      dtype='object')\n"
          ],
          "name": "stdout"
        }
      ]
=======
      "execution_count": null,
      "outputs": []
>>>>>>> 7d8e03255dcdfea88dc0c8c502578100c518dfc1
    },
    {
      "cell_type": "code",
      "metadata": {
        "id": "PHc89cZzjrGX"
      },
      "source": [
        "features = ['keywords','cast','genres','director']"
      ],
<<<<<<< HEAD
      "execution_count": 8,
=======
      "execution_count": 48,
>>>>>>> 7d8e03255dcdfea88dc0c8c502578100c518dfc1
      "outputs": []
    },
    {
      "cell_type": "code",
      "metadata": {
        "id": "jNYwNdI4mQRk"
      },
      "source": [
        "for feature in features:\r\n",
        "\tdf[feature] = df[feature].fillna('')"
      ],
<<<<<<< HEAD
      "execution_count": 9,
=======
      "execution_count": 49,
>>>>>>> 7d8e03255dcdfea88dc0c8c502578100c518dfc1
      "outputs": []
    },
    {
      "cell_type": "code",
      "metadata": {
        "id": "9bjoi8X9miRx"
      },
      "source": [
        "def combine_features(row):\r\n",
        "\ttry:\r\n",
        "\t\treturn row['keywords'] +\" \"+row['cast']+\" \"+row[\"genres\"]+\" \"+row[\"director\"]\r\n",
        "\texcept:\r\n",
        "\t\tprint (\"Error:\", row)\t\r\n",
        "\r\n"
      ],
<<<<<<< HEAD
      "execution_count": 10,
=======
      "execution_count": 52,
>>>>>>> 7d8e03255dcdfea88dc0c8c502578100c518dfc1
      "outputs": []
    },
    {
      "cell_type": "code",
      "metadata": {
        "id": "Q6i02YSCmiG6"
      },
      "source": [
        "df[\"combined_features\"] = df.apply(combine_features,axis=1)"
      ],
<<<<<<< HEAD
      "execution_count": 11,
=======
      "execution_count": 53,
>>>>>>> 7d8e03255dcdfea88dc0c8c502578100c518dfc1
      "outputs": []
    },
    {
      "cell_type": "code",
      "metadata": {
<<<<<<< HEAD
        "id": "DAd72JDqmvTx",
        "colab": {
          "base_uri": "https://localhost:8080/"
        },
        "outputId": "c141bc2e-993f-49af-c513-e02d377705df"
=======
        "id": "DAd72JDqmvTx"
>>>>>>> 7d8e03255dcdfea88dc0c8c502578100c518dfc1
      },
      "source": [
        "print (\"Combined Features:\", df[\"combined_features\"].head())"
      ],
<<<<<<< HEAD
      "execution_count": 12,
      "outputs": [
        {
          "output_type": "stream",
          "text": [
            "Combined Features: 0    culture clash future space war space colony so...\n",
            "1    ocean drug abuse exotic island east india trad...\n",
            "2    spy based on novel secret agent sequel mi6 Dan...\n",
            "3    dc comics crime fighter terrorist secret ident...\n",
            "4    based on novel mars medallion space travel pri...\n",
            "Name: combined_features, dtype: object\n"
          ],
          "name": "stdout"
        }
      ]
=======
      "execution_count": null,
      "outputs": []
>>>>>>> 7d8e03255dcdfea88dc0c8c502578100c518dfc1
    },
    {
      "cell_type": "code",
      "metadata": {
        "id": "VxOfxt7HnNyr"
      },
      "source": [
        "cv = CountVectorizer()\r\n",
        "\r\n",
        "count_matrix = cv.fit_transform(df[\"combined_features\"])"
      ],
<<<<<<< HEAD
      "execution_count": 13,
=======
      "execution_count": 56,
>>>>>>> 7d8e03255dcdfea88dc0c8c502578100c518dfc1
      "outputs": []
    },
    {
      "cell_type": "code",
      "metadata": {
        "id": "_VE73r0vnuIe"
      },
      "source": [
        "cosine_sim = cosine_similarity(count_matrix) "
      ],
<<<<<<< HEAD
      "execution_count": 14,
=======
      "execution_count": 58,
>>>>>>> 7d8e03255dcdfea88dc0c8c502578100c518dfc1
      "outputs": []
    },
    {
      "cell_type": "code",
      "metadata": {
        "id": "-zQymO8xoaNT"
      },
      "source": [
<<<<<<< HEAD
        "movie_user_likes = \"Man of Steel\""
      ],
      "execution_count": 30,
=======
        "movie_user_likes = \"Avatar\""
      ],
      "execution_count": 60,
>>>>>>> 7d8e03255dcdfea88dc0c8c502578100c518dfc1
      "outputs": []
    },
    {
      "cell_type": "code",
      "metadata": {
        "id": "dyqpCEmQoodT"
      },
      "source": [
        "movie_index = get_index_from_title(movie_user_likes)"
      ],
<<<<<<< HEAD
      "execution_count": 31,
=======
      "execution_count": 62,
>>>>>>> 7d8e03255dcdfea88dc0c8c502578100c518dfc1
      "outputs": []
    },
    {
      "cell_type": "code",
      "metadata": {
        "id": "DY9q2_NvoxdO"
      },
      "source": [
        "similar_movies =  list(enumerate(cosine_sim[movie_index]))"
      ],
<<<<<<< HEAD
      "execution_count": 32,
=======
      "execution_count": 63,
>>>>>>> 7d8e03255dcdfea88dc0c8c502578100c518dfc1
      "outputs": []
    },
    {
      "cell_type": "code",
      "metadata": {
        "id": "Aj3yGzryo6FK"
      },
      "source": [
        "sorted_similar_movies = sorted(similar_movies,key=lambda x:x[1],reverse=True)"
      ],
<<<<<<< HEAD
      "execution_count": 33,
=======
      "execution_count": 65,
>>>>>>> 7d8e03255dcdfea88dc0c8c502578100c518dfc1
      "outputs": []
    },
    {
      "cell_type": "code",
      "metadata": {
<<<<<<< HEAD
        "id": "-YM6BJU6phiq",
        "colab": {
          "base_uri": "https://localhost:8080/"
        },
        "outputId": "f95f392b-b648-42e5-ebae-2c8c0c41d328"
=======
        "id": "-YM6BJU6phiq"
>>>>>>> 7d8e03255dcdfea88dc0c8c502578100c518dfc1
      },
      "source": [
        "i=0\r\n",
        "for element in sorted_similar_movies:\r\n",
        "\t\tprint (get_title_from_index(element[0]))\r\n",
        "\t\ti=i+1\r\n",
        "\t\tif i>20:\r\n",
        "\t\t\tbreak"
      ],
<<<<<<< HEAD
      "execution_count": 34,
      "outputs": [
        {
          "output_type": "stream",
          "text": [
            "Man of Steel\n",
            "Batman v Superman: Dawn of Justice\n",
            "Superman II\n",
            "Superman Returns\n",
            "Ant-Man\n",
            "X-Men\n",
            "Watchmen\n",
            "X2\n",
            "X-Men: Days of Future Past\n",
            "Superman\n",
            "X-Men: The Last Stand\n",
            "Iron Man 2\n",
            "Avengers: Age of Ultron\n",
            "Superman IV: The Quest for Peace\n",
            "The Avengers\n",
            "Spawn\n",
            "Superman III\n",
            "X-Men: Apocalypse\n",
            "The Incredible Hulk\n",
            "X-Men: First Class\n",
            "Thor: The Dark World\n"
          ],
          "name": "stdout"
        }
      ]
=======
      "execution_count": null,
      "outputs": []
>>>>>>> 7d8e03255dcdfea88dc0c8c502578100c518dfc1
    }
  ]
}